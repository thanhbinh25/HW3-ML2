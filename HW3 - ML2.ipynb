{
 "cells": [
  {
   "cell_type": "markdown",
   "id": "95d536b6",
   "metadata": {},
   "source": [
    "### Ex 1. Implement kmean algorithm by Numpy"
   ]
  },
  {
   "cell_type": "code",
   "execution_count": 27,
   "id": "c626b35a",
   "metadata": {},
   "outputs": [],
   "source": [
    "%matplotlib inline\n",
    "import matplotlib.pyplot as plt\n",
    "import numpy as np\n",
    "import seaborn as sns"
   ]
  },
  {
   "cell_type": "code",
   "execution_count": 37,
   "id": "651b33eb",
   "metadata": {},
   "outputs": [],
   "source": [
    "class Kmean:\n",
    "    def __init__(self, K, data):\n",
    "        self._K = K\n",
    "        self._x = np.array(data)\n",
    "        self._mu = None\n",
    "        self._flag = np.zeros(self._x.shape[0])\n",
    "        \n",
    "    def get_distortion(self):\n",
    "        # distortion is the overall distance from each point to its centroid\n",
    "        distortion = 0\n",
    "        for i in range(self._x.shape[0]):\n",
    "            label = int(self._flag[i])\n",
    "            distortion += np.linalg.norm(self._x[i] - self._mu[label])\n",
    "        return distortion\n",
    "  \n",
    "    def cluster(self, threshold):\n",
    "        # initialize centroid vectors mu by randomly choose k datapoints\n",
    "        x = self._x.copy()\n",
    "        np.random.shuffle(x)\n",
    "        self._mu = x[:self._K]\n",
    "        last_mu = self._mu.copy()\n",
    "        stop = np.ones(self._K)\n",
    "        while True:\n",
    "            # find closest centroid for each point\n",
    "            for i in range(self._x.shape[0]):\n",
    "                distances = ((self._x[i] - self._mu) ** 2).sum(axis=1)\n",
    "                self._flag[i] = np.argmin(distances, axis = 0)\n",
    "            # move centroids\n",
    "            for k in range(self._mu.shape[0]):\n",
    "                self._mu[K] = (self._x[self._flag == K]).mean(axis=0)\n",
    "                stop[K] = ((self._mu[K] - last_mu[K]) ** 2).sum() >= 0.00001\n",
    "            #if stop.sum() == 0: solution 1: converge criteria when centroids move just unremarkably\n",
    "            #break\n",
    "            distortion = self.get_distortion() / self._x.shape[0] # solution 2: converge criteria when distortion measure reaches a threshold\n",
    "            if distortion <= threshold:\n",
    "                break\n",
    "            else:\n",
    "                last_mu = self._mu\n",
    "        return self._mu, self._flag\n",
    "        \n",
    "def visualize_data(data, label, centroids):\n",
    "    for i in range(centroids.shape[0]):\n",
    "        plt.scatter(data[label == i, 0], data[label == i, 1], alpha=0.5)\n",
    "    plt.scatter(centroids[:, 0], centroids[:, 1], c = 'cyan', s=100)"
   ]
  },
  {
   "cell_type": "markdown",
   "id": "de060f34",
   "metadata": {},
   "source": [
    "### Ex 2."
   ]
  },
  {
   "cell_type": "code",
   "execution_count": 38,
   "id": "379b1caf",
   "metadata": {},
   "outputs": [
    {
     "ename": "AttributeError",
     "evalue": "'Kmean' object has no attribute '_k'",
     "output_type": "error",
     "traceback": [
      "\u001b[1;31m---------------------------------------------------------------------------\u001b[0m",
      "\u001b[1;31mAttributeError\u001b[0m                            Traceback (most recent call last)",
      "\u001b[1;32m<ipython-input-38-89fa3b56f328>\u001b[0m in \u001b[0;36m<module>\u001b[1;34m\u001b[0m\n\u001b[0;32m      6\u001b[0m \u001b[0mx1\u001b[0m\u001b[1;33m,\u001b[0m \u001b[0my1\u001b[0m \u001b[1;33m=\u001b[0m \u001b[0mmake_blobs\u001b[0m\u001b[1;33m(\u001b[0m\u001b[0mn_samples\u001b[0m\u001b[1;33m=\u001b[0m\u001b[1;36m500\u001b[0m\u001b[1;33m,\u001b[0m \u001b[0mcenters\u001b[0m\u001b[1;33m=\u001b[0m\u001b[0mn_cluster\u001b[0m\u001b[1;33m,\u001b[0m \u001b[0mn_features\u001b[0m\u001b[1;33m=\u001b[0m\u001b[1;36m2\u001b[0m\u001b[1;33m,\u001b[0m \u001b[0mrandom_state\u001b[0m\u001b[1;33m=\u001b[0m\u001b[1;36m0\u001b[0m\u001b[1;33m)\u001b[0m\u001b[1;33m\u001b[0m\u001b[1;33m\u001b[0m\u001b[0m\n\u001b[0;32m      7\u001b[0m \u001b[0mK\u001b[0m \u001b[1;33m=\u001b[0m \u001b[0mKmean\u001b[0m\u001b[1;33m(\u001b[0m\u001b[0mn_cluster\u001b[0m\u001b[1;33m,\u001b[0m \u001b[0mx1\u001b[0m\u001b[1;33m)\u001b[0m\u001b[1;33m\u001b[0m\u001b[1;33m\u001b[0m\u001b[0m\n\u001b[1;32m----> 8\u001b[1;33m \u001b[0mmu\u001b[0m\u001b[1;33m,\u001b[0m \u001b[0mf\u001b[0m \u001b[1;33m=\u001b[0m \u001b[0mk\u001b[0m\u001b[1;33m.\u001b[0m\u001b[0mcluster\u001b[0m\u001b[1;33m(\u001b[0m\u001b[0mthreshold\u001b[0m \u001b[1;33m=\u001b[0m \u001b[1;36m10\u001b[0m\u001b[1;33m)\u001b[0m\u001b[1;33m\u001b[0m\u001b[1;33m\u001b[0m\u001b[0m\n\u001b[0m\u001b[0;32m      9\u001b[0m \u001b[1;33m\u001b[0m\u001b[0m\n\u001b[0;32m     10\u001b[0m \u001b[0mplt\u001b[0m\u001b[1;33m.\u001b[0m\u001b[0msubplot\u001b[0m\u001b[1;33m(\u001b[0m\u001b[1;36m121\u001b[0m\u001b[1;33m)\u001b[0m\u001b[1;33m\u001b[0m\u001b[1;33m\u001b[0m\u001b[0m\n",
      "\u001b[1;32m<ipython-input-28-53bf570146bb>\u001b[0m in \u001b[0;36mcluster\u001b[1;34m(self, threshold)\u001b[0m\n\u001b[0;32m     18\u001b[0m         \u001b[0mx\u001b[0m \u001b[1;33m=\u001b[0m \u001b[0mself\u001b[0m\u001b[1;33m.\u001b[0m\u001b[0m_x\u001b[0m\u001b[1;33m.\u001b[0m\u001b[0mcopy\u001b[0m\u001b[1;33m(\u001b[0m\u001b[1;33m)\u001b[0m\u001b[1;33m\u001b[0m\u001b[1;33m\u001b[0m\u001b[0m\n\u001b[0;32m     19\u001b[0m         \u001b[0mnp\u001b[0m\u001b[1;33m.\u001b[0m\u001b[0mrandom\u001b[0m\u001b[1;33m.\u001b[0m\u001b[0mshuffle\u001b[0m\u001b[1;33m(\u001b[0m\u001b[0mx\u001b[0m\u001b[1;33m)\u001b[0m\u001b[1;33m\u001b[0m\u001b[1;33m\u001b[0m\u001b[0m\n\u001b[1;32m---> 20\u001b[1;33m         \u001b[0mself\u001b[0m\u001b[1;33m.\u001b[0m\u001b[0m_mu\u001b[0m \u001b[1;33m=\u001b[0m \u001b[0mx\u001b[0m\u001b[1;33m[\u001b[0m\u001b[1;33m:\u001b[0m\u001b[0mself\u001b[0m\u001b[1;33m.\u001b[0m\u001b[0m_k\u001b[0m\u001b[1;33m]\u001b[0m\u001b[1;33m\u001b[0m\u001b[1;33m\u001b[0m\u001b[0m\n\u001b[0m\u001b[0;32m     21\u001b[0m         \u001b[0mlast_mu\u001b[0m \u001b[1;33m=\u001b[0m \u001b[0mself\u001b[0m\u001b[1;33m.\u001b[0m\u001b[0m_mu\u001b[0m\u001b[1;33m.\u001b[0m\u001b[0mcopy\u001b[0m\u001b[1;33m(\u001b[0m\u001b[1;33m)\u001b[0m\u001b[1;33m\u001b[0m\u001b[1;33m\u001b[0m\u001b[0m\n\u001b[0;32m     22\u001b[0m         \u001b[0mstop\u001b[0m \u001b[1;33m=\u001b[0m \u001b[0mnp\u001b[0m\u001b[1;33m.\u001b[0m\u001b[0mones\u001b[0m\u001b[1;33m(\u001b[0m\u001b[0mself\u001b[0m\u001b[1;33m.\u001b[0m\u001b[0m_k\u001b[0m\u001b[1;33m)\u001b[0m\u001b[1;33m\u001b[0m\u001b[1;33m\u001b[0m\u001b[0m\n",
      "\u001b[1;31mAttributeError\u001b[0m: 'Kmean' object has no attribute '_k'"
     ]
    }
   ],
   "source": [
    "from sklearn.datasets import make_blobs\n",
    "from sklearn.datasets import make_classification\n",
    "from sklearn.datasets import make_gaussian_quantiles\n",
    "\n",
    "n_cluster = 3\n",
    "x1, y1 = make_blobs(n_samples=500, centers=n_cluster, n_features=2, random_state=0)\n",
    "K = Kmean(n_cluster, x1)\n",
    "mu, f = k.cluster(threshold = 10)\n",
    "\n",
    "plt.subplot(121)\n",
    "visualize_data(x1, y1, mu)\n",
    "\n",
    "plt.subplot(122)\n",
    "visualize_data(x1, f, mu)"
   ]
  }
 ],
 "metadata": {
  "kernelspec": {
   "display_name": "Python 3",
   "language": "python",
   "name": "python3"
  },
  "language_info": {
   "codemirror_mode": {
    "name": "ipython",
    "version": 3
   },
   "file_extension": ".py",
   "mimetype": "text/x-python",
   "name": "python",
   "nbconvert_exporter": "python",
   "pygments_lexer": "ipython3",
   "version": "3.8.8"
  }
 },
 "nbformat": 4,
 "nbformat_minor": 5
}
